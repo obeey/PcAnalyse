{
 "cells": [
  {
   "cell_type": "code",
   "execution_count": 37,
   "metadata": {},
   "outputs": [
    {
     "name": "stdout",
     "output_type": "stream",
     "text": [
      "Using matplotlib backend: Qt5Agg\n",
      "The autoreload extension is already loaded. To reload it, use:\n",
      "  %reload_ext autoreload\n"
     ]
    }
   ],
   "source": [
    "import sys\n",
    "sys.path.append('f:/Project/PcAnalyse/')\n",
    "\n",
    "from datetime import datetime\n",
    "from datetime import timedelta\n",
    "from datetime import date\n",
    "import numpy as np\n",
    "import pandas as pd\n",
    "import StockDataLoad as sdl\n",
    "import StockKlineSharp as sks\n",
    "import StockPredict as sp\n",
    "\n",
    "%matplotlib\n",
    "\n",
    "%load_ext autoreload\n",
    "%autoreload 2"
   ]
  },
  {
   "cell_type": "code",
   "execution_count": 14,
   "metadata": {},
   "outputs": [],
   "source": [
    "stock = sdl.load_path2dict(path='d:/export', start_date='2018/01/01', data_action=sks.kline_sharp_action_ma)\n",
    "# stock = sdl.load_path2dict(path='d:/export-small', start_date='2018/01/01')"
   ]
  },
  {
   "cell_type": "code",
   "execution_count": 52,
   "metadata": {},
   "outputs": [],
   "source": [
    "sp.predict_range(stock, [sp.predict_kline_sharp_action], '2018/08/30', '2018/12/30', sp.predict_result_show_graph)"
   ]
  },
  {
   "cell_type": "code",
   "execution_count": 57,
   "metadata": {},
   "outputs": [
    {
     "data": {
      "text/html": [
       "<div>\n",
       "<style scoped>\n",
       "    .dataframe tbody tr th:only-of-type {\n",
       "        vertical-align: middle;\n",
       "    }\n",
       "\n",
       "    .dataframe tbody tr th {\n",
       "        vertical-align: top;\n",
       "    }\n",
       "\n",
       "    .dataframe thead th {\n",
       "        text-align: right;\n",
       "    }\n",
       "</style>\n",
       "<table border=\"1\" class=\"dataframe\">\n",
       "  <thead>\n",
       "    <tr style=\"text-align: right;\">\n",
       "      <th></th>\n",
       "      <th>open</th>\n",
       "      <th>high</th>\n",
       "      <th>low</th>\n",
       "      <th>close</th>\n",
       "      <th>volume</th>\n",
       "      <th>transation</th>\n",
       "      <th>ma5</th>\n",
       "      <th>ma10</th>\n",
       "      <th>ma20</th>\n",
       "      <th>v_ma5</th>\n",
       "      <th>...</th>\n",
       "      <th>volume_pc</th>\n",
       "      <th>ma5_pc</th>\n",
       "      <th>ma10_pc</th>\n",
       "      <th>ma20_pc</th>\n",
       "      <th>v_ma5_pc</th>\n",
       "      <th>v_ma10_pc</th>\n",
       "      <th>v_ma20_pc</th>\n",
       "      <th>rise_pc</th>\n",
       "      <th>amplitude</th>\n",
       "      <th>oc_pc</th>\n",
       "    </tr>\n",
       "    <tr>\n",
       "      <th>date</th>\n",
       "      <th></th>\n",
       "      <th></th>\n",
       "      <th></th>\n",
       "      <th></th>\n",
       "      <th></th>\n",
       "      <th></th>\n",
       "      <th></th>\n",
       "      <th></th>\n",
       "      <th></th>\n",
       "      <th></th>\n",
       "      <th></th>\n",
       "      <th></th>\n",
       "      <th></th>\n",
       "      <th></th>\n",
       "      <th></th>\n",
       "      <th></th>\n",
       "      <th></th>\n",
       "      <th></th>\n",
       "      <th></th>\n",
       "      <th></th>\n",
       "      <th></th>\n",
       "    </tr>\n",
       "  </thead>\n",
       "  <tbody>\n",
       "    <tr>\n",
       "      <th>2018-01-02</th>\n",
       "      <td>6.53</td>\n",
       "      <td>6.54</td>\n",
       "      <td>6.48</td>\n",
       "      <td>6.51</td>\n",
       "      <td>3747361</td>\n",
       "      <td>31706488.0</td>\n",
       "      <td>6.526</td>\n",
       "      <td>6.525</td>\n",
       "      <td>6.5595</td>\n",
       "      <td>4519971.6</td>\n",
       "      <td>...</td>\n",
       "      <td>-0.010790</td>\n",
       "      <td>-0.000306</td>\n",
       "      <td>-0.000613</td>\n",
       "      <td>-0.002054</td>\n",
       "      <td>-0.123978</td>\n",
       "      <td>0.012844</td>\n",
       "      <td>-0.072004</td>\n",
       "      <td>-0.001534</td>\n",
       "      <td>0.009259</td>\n",
       "      <td>0.333333</td>\n",
       "    </tr>\n",
       "    <tr>\n",
       "      <th>2018-01-03</th>\n",
       "      <td>6.50</td>\n",
       "      <td>6.55</td>\n",
       "      <td>6.48</td>\n",
       "      <td>6.52</td>\n",
       "      <td>3631402</td>\n",
       "      <td>30763224.0</td>\n",
       "      <td>6.526</td>\n",
       "      <td>6.522</td>\n",
       "      <td>6.5550</td>\n",
       "      <td>4158809.8</td>\n",
       "      <td>...</td>\n",
       "      <td>-0.030944</td>\n",
       "      <td>0.000000</td>\n",
       "      <td>-0.000460</td>\n",
       "      <td>-0.000686</td>\n",
       "      <td>-0.079904</td>\n",
       "      <td>0.001481</td>\n",
       "      <td>-0.074864</td>\n",
       "      <td>-0.001531</td>\n",
       "      <td>0.010802</td>\n",
       "      <td>0.285714</td>\n",
       "    </tr>\n",
       "    <tr>\n",
       "      <th>2018-01-04</th>\n",
       "      <td>6.50</td>\n",
       "      <td>6.75</td>\n",
       "      <td>6.50</td>\n",
       "      <td>6.56</td>\n",
       "      <td>12477486</td>\n",
       "      <td>107286272.0</td>\n",
       "      <td>6.534</td>\n",
       "      <td>6.527</td>\n",
       "      <td>6.5525</td>\n",
       "      <td>5703757.2</td>\n",
       "      <td>...</td>\n",
       "      <td>2.435997</td>\n",
       "      <td>0.001226</td>\n",
       "      <td>0.000767</td>\n",
       "      <td>-0.000381</td>\n",
       "      <td>0.371488</td>\n",
       "      <td>0.058271</td>\n",
       "      <td>0.053668</td>\n",
       "      <td>0.009231</td>\n",
       "      <td>0.038462</td>\n",
       "      <td>0.240000</td>\n",
       "    </tr>\n",
       "    <tr>\n",
       "      <th>2018-01-05</th>\n",
       "      <td>6.46</td>\n",
       "      <td>6.55</td>\n",
       "      <td>6.46</td>\n",
       "      <td>6.52</td>\n",
       "      <td>4655600</td>\n",
       "      <td>39441296.0</td>\n",
       "      <td>6.528</td>\n",
       "      <td>6.527</td>\n",
       "      <td>6.5485</td>\n",
       "      <td>5660017.0</td>\n",
       "      <td>...</td>\n",
       "      <td>-0.626880</td>\n",
       "      <td>-0.000918</td>\n",
       "      <td>0.000000</td>\n",
       "      <td>-0.000610</td>\n",
       "      <td>-0.007669</td>\n",
       "      <td>-0.059837</td>\n",
       "      <td>-0.003130</td>\n",
       "      <td>0.003077</td>\n",
       "      <td>0.013932</td>\n",
       "      <td>0.666667</td>\n",
       "    </tr>\n",
       "    <tr>\n",
       "      <th>2018-01-08</th>\n",
       "      <td>6.53</td>\n",
       "      <td>6.54</td>\n",
       "      <td>6.48</td>\n",
       "      <td>6.52</td>\n",
       "      <td>4945710</td>\n",
       "      <td>41778644.0</td>\n",
       "      <td>6.526</td>\n",
       "      <td>6.527</td>\n",
       "      <td>6.5435</td>\n",
       "      <td>5891511.8</td>\n",
       "      <td>...</td>\n",
       "      <td>0.062314</td>\n",
       "      <td>-0.000306</td>\n",
       "      <td>0.000000</td>\n",
       "      <td>-0.000764</td>\n",
       "      <td>0.040900</td>\n",
       "      <td>-0.053798</td>\n",
       "      <td>0.002358</td>\n",
       "      <td>0.009288</td>\n",
       "      <td>0.009259</td>\n",
       "      <td>0.166667</td>\n",
       "    </tr>\n",
       "  </tbody>\n",
       "</table>\n",
       "<p>5 rows × 24 columns</p>\n",
       "</div>"
      ],
      "text/plain": [
       "            open  high   low  close    volume   transation    ma5   ma10  \\\n",
       "date                                                                       \n",
       "2018-01-02  6.53  6.54  6.48   6.51   3747361   31706488.0  6.526  6.525   \n",
       "2018-01-03  6.50  6.55  6.48   6.52   3631402   30763224.0  6.526  6.522   \n",
       "2018-01-04  6.50  6.75  6.50   6.56  12477486  107286272.0  6.534  6.527   \n",
       "2018-01-05  6.46  6.55  6.46   6.52   4655600   39441296.0  6.528  6.527   \n",
       "2018-01-08  6.53  6.54  6.48   6.52   4945710   41778644.0  6.526  6.527   \n",
       "\n",
       "              ma20      v_ma5  ...  volume_pc    ma5_pc   ma10_pc   ma20_pc  \\\n",
       "date                           ...                                            \n",
       "2018-01-02  6.5595  4519971.6  ...  -0.010790 -0.000306 -0.000613 -0.002054   \n",
       "2018-01-03  6.5550  4158809.8  ...  -0.030944  0.000000 -0.000460 -0.000686   \n",
       "2018-01-04  6.5525  5703757.2  ...   2.435997  0.001226  0.000767 -0.000381   \n",
       "2018-01-05  6.5485  5660017.0  ...  -0.626880 -0.000918  0.000000 -0.000610   \n",
       "2018-01-08  6.5435  5891511.8  ...   0.062314 -0.000306  0.000000 -0.000764   \n",
       "\n",
       "            v_ma5_pc  v_ma10_pc  v_ma20_pc   rise_pc  amplitude     oc_pc  \n",
       "date                                                                       \n",
       "2018-01-02 -0.123978   0.012844  -0.072004 -0.001534   0.009259  0.333333  \n",
       "2018-01-03 -0.079904   0.001481  -0.074864 -0.001531   0.010802  0.285714  \n",
       "2018-01-04  0.371488   0.058271   0.053668  0.009231   0.038462  0.240000  \n",
       "2018-01-05 -0.007669  -0.059837  -0.003130  0.003077   0.013932  0.666667  \n",
       "2018-01-08  0.040900  -0.053798   0.002358  0.009288   0.009259  0.166667  \n",
       "\n",
       "[5 rows x 24 columns]"
      ]
     },
     "execution_count": 57,
     "metadata": {},
     "output_type": "execute_result"
    }
   ],
   "source": [
    "stock['600069'].head()"
   ]
  },
  {
   "cell_type": "code",
   "execution_count": 53,
   "metadata": {},
   "outputs": [
    {
     "name": "stdout",
     "output_type": "stream",
     "text": [
      "2018-01-02 00:00:00\n",
      "8.49\n",
      "2018-01-02 00:00:00\n",
      "7.65\n",
      "2018-01-02 00:00:00\n",
      "14.02\n",
      "2018-01-02 00:00:00\n",
      "20.77\n"
     ]
    }
   ],
   "source": [
    "for c,v in stock.items():\n",
    "    if len(v) == 0:\n",
    "        continue\n",
    "\n",
    "    date = datetime.strptime('2018/01/02', '%Y/%m/%d')\n",
    "    print(date)\n",
    "    one = v[date:date]\n",
    "    o = one['open'].values[0]\n",
    "    print(o)\n"
   ]
  },
  {
   "cell_type": "code",
   "execution_count": 13,
   "metadata": {},
   "outputs": [
    {
     "data": {
      "text/plain": [
       "datetime.date(2018, 1, 2)"
      ]
     },
     "execution_count": 13,
     "metadata": {},
     "output_type": "execute_result"
    }
   ],
   "source": [
    "ds = '2018/01/02'.split('/')\n",
    "# ds\n",
    "d = date(int(ds[0]), int(ds[1]), int(ds[2]))\n",
    "d"
   ]
  },
  {
   "cell_type": "code",
   "execution_count": 4,
   "metadata": {},
   "outputs": [
    {
     "data": {
      "text/plain": [
       "datetime.date(2019, 1, 1)"
      ]
     },
     "execution_count": 4,
     "metadata": {},
     "output_type": "execute_result"
    }
   ],
   "source": [
    "d"
   ]
  }
 ],
 "metadata": {
  "kernelspec": {
   "display_name": "Python 3",
   "language": "python",
   "name": "python3"
  },
  "language_info": {
   "codemirror_mode": {
    "name": "ipython",
    "version": 3
   },
   "file_extension": ".py",
   "mimetype": "text/x-python",
   "name": "python",
   "nbconvert_exporter": "python",
   "pygments_lexer": "ipython3",
   "version": "3.7.3"
  }
 },
 "nbformat": 4,
 "nbformat_minor": 2
}
