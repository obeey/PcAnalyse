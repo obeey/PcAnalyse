{
 "cells": [
  {
   "cell_type": "code",
   "execution_count": 1,
   "metadata": {
    "collapsed": true
   },
   "outputs": [],
   "source": [
    "import sys\n",
    "sys.path.append('f:/Project/PcAnalyse/')\n",
    "\n",
    "import datetime\n",
    "import tensorflow as tf"
   ]
  },
  {
   "cell_type": "code",
   "execution_count": 2,
   "metadata": {
    "collapsed": true
   },
   "outputs": [],
   "source": [
    "import StockDataLoad as sdl\n",
    "import StockPredict as sp\n",
    "import StockBackTest as sbt"
   ]
  },
  {
   "cell_type": "code",
   "execution_count": 3,
   "metadata": {
    "collapsed": true
   },
   "outputs": [],
   "source": [
    "%matplotlib qt5"
   ]
  },
  {
   "cell_type": "code",
   "execution_count": 9,
   "metadata": {
    "collapsed": true
   },
   "outputs": [],
   "source": [
    "%load_ext autoreload\n",
    "%autoreload 2"
   ]
  },
  {
   "cell_type": "code",
   "execution_count": 4,
   "metadata": {
    "collapsed": true
   },
   "outputs": [],
   "source": [
    "tf.logging.set_verbosity(tf.logging.DEBUG)"
   ]
  },
  {
   "cell_type": "code",
   "execution_count": 5,
   "metadata": {},
   "outputs": [
    {
     "name": "stdout",
     "output_type": "stream",
     "text": [
      "INFO:tensorflow:Using default config.\n",
      "INFO:tensorflow:Using config: {'_model_dir': 'f:/Project/PcAnalyse/model_hu_1024_512_256_nc_2_trend_20', '_tf_random_seed': 1, '_save_summary_steps': 100, '_save_checkpoints_secs': 600, '_save_checkpoints_steps': None, '_session_config': None, '_keep_checkpoint_max': 5, '_keep_checkpoint_every_n_hours': 10000, '_log_step_count_steps': 100}\n"
     ]
    }
   ],
   "source": [
    "feature_columns = [tf.feature_column.numeric_column(\"x\", shape=[180])]\n",
    "classifier_1024_512_256 = tf.estimator.DNNClassifier(feature_columns=feature_columns,\n",
    "                                                     hidden_units=[1024, 512, 256],\n",
    "                                                     n_classes=2,\n",
    "                                                     model_dir=\"f:/Project/PcAnalyse/model_hu_1024_512_256_nc_2_trend_20\")"
   ]
  },
  {
   "cell_type": "code",
   "execution_count": 6,
   "metadata": {
    "collapsed": true
   },
   "outputs": [],
   "source": [
    "stock_dict_predict = sdl.load_path2dict('f:/StockData/real', '2017/11/27')"
   ]
  },
  {
   "cell_type": "code",
   "execution_count": 7,
   "metadata": {
    "collapsed": true
   },
   "outputs": [],
   "source": [
    "sp.predict_stock_today(classifier_1024_512_256, stock_dict_predict)"
   ]
  },
  {
   "cell_type": "code",
   "execution_count": null,
   "metadata": {},
   "outputs": [
    {
     "name": "stdout",
     "output_type": "stream",
     "text": [
      "2017/12/12\n",
      "\t600182\n",
      "\t600272\n",
      "\t600469\n",
      "\t600545\n",
      "\t600596\n",
      "\t600771\n",
      "\t600779\n",
      "\t601595\n",
      "\t603111\n",
      "\t603160\n",
      "\t603578\n",
      "\t603738\n",
      "\t603768\n",
      "\t603825\n",
      "\t000049\n",
      "\t000333\n",
      "\t000524\n",
      "\t000793\n",
      "\t000931\n",
      "\t002088\n",
      "\t002124\n",
      "\t002294\n",
      "\t002315\n",
      "\t002483\n",
      "\t002755\n",
      "\t002810\n",
      "\t002812\n",
      "\t002816\n",
      "\t002829\n",
      "\t002838\n",
      "\t002851\n",
      "\t300280\n",
      "\t300363\n"
     ]
    }
   ],
   "source": [
    "date_str = datetime.datetime.today().strftime('%Y/%m/%d')\n",
    "print(date_str)\n",
    "stock_lst = sbt.backtest_all_stock_specify_date(stock_dict_predict, date_str)\n",
    "\n",
    "# print(stock_lst)\n",
    "# stock_basic_info = stock_info_get()\n",
    "# stock_lst = stock_filter(stock_lst, stock_basic_info)\n",
    "sbt.backtest_stock_show(stock_lst, date_str)"
   ]
  },
  {
   "cell_type": "code",
   "execution_count": null,
   "metadata": {
    "collapsed": true
   },
   "outputs": [],
   "source": []
  }
 ],
 "metadata": {
  "kernelspec": {
   "display_name": "Python 3",
   "language": "python",
   "name": "python3"
  },
  "language_info": {
   "codemirror_mode": {
    "name": "ipython",
    "version": 3
   },
   "file_extension": ".py",
   "mimetype": "text/x-python",
   "name": "python",
   "nbconvert_exporter": "python",
   "pygments_lexer": "ipython3",
   "version": "3.6.1"
  }
 },
 "nbformat": 4,
 "nbformat_minor": 2
}
